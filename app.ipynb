{
 "cells": [
  {
   "cell_type": "code",
   "execution_count": 1,
   "id": "61c61d86-5587-408e-8955-12ea0b22b3b8",
   "metadata": {},
   "outputs": [],
   "source": [
    "import os # 用于与操作系统交互\n",
    "import signal # 用于处理信号（如中断信号），可以用来优雅地关闭程序。\n",
    "import sys # 提供对解释器使用或维护的一些变量的访问，以及与解释器强烈交互的函数。\n",
    "import time # 提供各种时间相关的功能。\n",
    "from channel import channel_factory # 用于创建不同类型的通信通道。"
   ]
  },
  {
   "cell_type": "code",
   "execution_count": 2,
   "id": "4a9ae7a5-e07b-4b19-af0a-715aa2527044",
   "metadata": {},
   "outputs": [],
   "source": [
    "from common import const # 可能是定义了一些常量"
   ]
  },
  {
   "cell_type": "code",
   "execution_count": 3,
   "id": "49e3c6a3-d080-4cd9-b637-c2f48027a32f",
   "metadata": {},
   "outputs": [],
   "source": [
    "from config import load_config # 用于加载配置文件。"
   ]
  },
  {
   "cell_type": "code",
   "execution_count": 4,
   "id": "98525832-0a43-42d7-9f1b-161f71557e80",
   "metadata": {},
   "outputs": [
    {
     "data": {
      "text/plain": [
       "32884"
      ]
     },
     "execution_count": 4,
     "metadata": {},
     "output_type": "execute_result"
    }
   ],
   "source": [
    "import random\n",
    "random.randint(32768, 65536)"
   ]
  },
  {
   "cell_type": "code",
   "execution_count": null,
   "id": "e89333b0-fd18-4aab-98d8-7af5d3515e5d",
   "metadata": {},
   "outputs": [],
   "source": [
    "if 0:\n",
    "    print(1)"
   ]
  },
  {
   "cell_type": "code",
   "execution_count": 5,
   "id": "e5dc5043-7151-4fc7-b651-dfe823610f47",
   "metadata": {},
   "outputs": [],
   "source": [
    "from plugins import * # 导入所有插件，这通常用于扩展功能。"
   ]
  },
  {
   "cell_type": "code",
   "execution_count": 6,
   "id": "a820a515-a407-442d-9e8f-261ebe567429",
   "metadata": {
    "scrolled": true
   },
   "outputs": [],
   "source": [
    "import threading # 用于多线程编程，可以并发执行任务。"
   ]
  },
  {
   "cell_type": "code",
   "execution_count": null,
   "id": "b452a87c-a3d5-45c6-80d5-ff25e29863f0",
   "metadata": {},
   "outputs": [],
   "source": [
    "# !pip install qrcode==7.4.2"
   ]
  },
  {
   "cell_type": "code",
   "execution_count": 7,
   "id": "6db5e986-20d5-4327-9eba-e9709f15dd00",
   "metadata": {},
   "outputs": [],
   "source": [
    "import ast"
   ]
  },
  {
   "cell_type": "code",
   "execution_count": 8,
   "id": "c8587fbb-f865-4ff4-a170-13e6ddf23539",
   "metadata": {},
   "outputs": [],
   "source": [
    "from config import Config"
   ]
  },
  {
   "cell_type": "code",
   "execution_count": null,
   "id": "c91d1fb5-77ff-42b1-93ad-76e4d9f1415e",
   "metadata": {},
   "outputs": [],
   "source": [
    "a=Config({'use_linkai':3,'zhipu_ai_api_key':4})"
   ]
  },
  {
   "cell_type": "code",
   "execution_count": 9,
   "id": "5dee8f1c-6266-4530-b93c-bfaaa2609731",
   "metadata": {},
   "outputs": [],
   "source": [
    "from config import get_root"
   ]
  },
  {
   "cell_type": "code",
   "execution_count": null,
   "id": "2c909e9f-edea-4e60-b73c-fe5ee5f646ad",
   "metadata": {},
   "outputs": [],
   "source": [
    "a['feishu_port']=6"
   ]
  },
  {
   "cell_type": "code",
   "execution_count": null,
   "id": "72ec1632-50a0-46a0-b7fc-1025e1a6a06a",
   "metadata": {},
   "outputs": [],
   "source": [
    "# __file__ 是一个特殊的内置变量，在普通的 Python 脚本中，它包含当前脚本的文件路径。然而，在\n",
    "# Jupyter Notebook 中，并没有实际的“文件”与每个单元格相关联，因为每个单元格是独立执行的代码片\n",
    "# 段，而不是保存在一个物理文件中的完整脚本。"
   ]
  },
  {
   "cell_type": "code",
   "execution_count": null,
   "id": "e62d4169-59dd-48bd-b01a-28ef00612207",
   "metadata": {},
   "outputs": [],
   "source": [
    "a.pop('feishu_port'.lower(), None)"
   ]
  },
  {
   "cell_type": "code",
   "execution_count": null,
   "id": "46d8f027-eaa5-4a5a-90aa-8122967d125d",
   "metadata": {},
   "outputs": [],
   "source": [
    "a"
   ]
  },
  {
   "cell_type": "code",
   "execution_count": null,
   "id": "7f9ae1b5-d038-4c9f-be7b-e2cc1b3e26e0",
   "metadata": {},
   "outputs": [],
   "source": [
    "os.getcwd()"
   ]
  },
  {
   "cell_type": "code",
   "execution_count": null,
   "id": "1180d656-ca45-4102-bc1c-9c9ad2eeda41",
   "metadata": {},
   "outputs": [],
   "source": [
    "get_root() "
   ]
  },
  {
   "cell_type": "code",
   "execution_count": 10,
   "id": "0248726b-d1ba-4c48-820f-8bf9efff092b",
   "metadata": {},
   "outputs": [],
   "source": [
    "from config import get_appdata_dir"
   ]
  },
  {
   "cell_type": "code",
   "execution_count": null,
   "id": "65d0c8e0-2bd4-4589-bad6-a6ef304ef43b",
   "metadata": {},
   "outputs": [],
   "source": [
    "get_appdata_dir()"
   ]
  },
  {
   "cell_type": "code",
   "execution_count": null,
   "id": "0b4c9577-75fa-4c0c-92d8-7895dc9d5036",
   "metadata": {},
   "outputs": [],
   "source": [
    "for i,j in os.environ.items():\n",
    "    print(i,j)"
   ]
  },
  {
   "cell_type": "code",
   "execution_count": 11,
   "id": "40cc12ee-c2ee-4bf6-96e2-26cc18b962e3",
   "metadata": {},
   "outputs": [
    {
     "name": "stdout",
     "output_type": "stream",
     "text": [
      "{'name': [1, 2, 3], 'age': 25, 'is_active': True, 'malicious_input': '__import__(\"os\").system(\"rm -rf /\")'}\n"
     ]
    }
   ],
   "source": [
    "config = {\n",
    "    'name': '[1, 2, 3]',\n",
    "    'age': '25',\n",
    "    'is_active': 'True',\n",
    "    'malicious_input': '__import__(\"os\").system(\"rm -rf /\")'  # 潜在恶意输入\n",
    "}\n",
    "# 使用 ast.literal_eval 将字符串转换为实际的 Python 对象\n",
    "for key, value in config.items():\n",
    "    try:\n",
    "        config[key] = ast.literal_eval(value)\n",
    "    except:\n",
    "        config[key] = value\n",
    "print(config)"
   ]
  },
  {
   "cell_type": "code",
   "execution_count": null,
   "id": "e26e7ae1-fe1a-4414-ada4-c59ca48ca200",
   "metadata": {},
   "outputs": [],
   "source": [
    "config.pop('name')"
   ]
  },
  {
   "cell_type": "code",
   "execution_count": 12,
   "id": "c2fa30da-3ef2-47d3-95e6-4823560a44b8",
   "metadata": {},
   "outputs": [],
   "source": [
    "del config['malicious_input']"
   ]
  },
  {
   "cell_type": "code",
   "execution_count": 13,
   "id": "46af2d21-d872-411c-9072-1eacfc084153",
   "metadata": {},
   "outputs": [
    {
     "name": "stdout",
     "output_type": "stream",
     "text": [
      "{'name': [1, 2, 3], 'age': 25, 'is_active': True}\n"
     ]
    }
   ],
   "source": [
    "print(config)"
   ]
  },
  {
   "cell_type": "code",
   "execution_count": null,
   "id": "59225ed5-6b26-47e1-b9e4-907bacb6dc07",
   "metadata": {},
   "outputs": [],
   "source": [
    "def sigterm_handler_wrap(_signo):\n",
    "    old_handler = signal.getsignal(_signo) # 获取旧的信号处理器\n",
    "    # 定义新的信号处理器,参数:第一个是信号编号，第二个是被中断的堆栈帧。\n",
    "    def func(_signo, _stack_frame):\n",
    "        # 记录日志\n",
    "        logger.info(\"signal {} received, exiting...\".format(_signo))\n",
    "        # 保存用户数据。\n",
    "        conf().save_user_datas()\n",
    "        # 判断old_handler是否可调用\n",
    "        if callable(old_handler):\n",
    "            return old_handler(_signo, _stack_frame)\n",
    "        # 这个在old_handler不可调用时执行,退出程序\n",
    "        sys.exit(0)\n",
    "    #将新定义的处理器 func 注册为信号 _signo 的处理器。\n",
    "    signal.signal(_signo, func) "
   ]
  },
  {
   "cell_type": "code",
   "execution_count": null,
   "id": "49ef3df4-e049-4d0e-be56-7bf29837ad93",
   "metadata": {},
   "outputs": [],
   "source": [
    "import uuid\n",
    "uuid.uuid4()"
   ]
  },
  {
   "cell_type": "code",
   "execution_count": null,
   "id": "7106e8e4-b116-4602-810b-1a613852e693",
   "metadata": {},
   "outputs": [],
   "source": [
    "from common import singleton"
   ]
  },
  {
   "cell_type": "code",
   "execution_count": null,
   "id": "bf307696-0336-48de-8f95-928aeab9abe5",
   "metadata": {},
   "outputs": [],
   "source": [
    "from channel.chat_channel import ChatChannel"
   ]
  },
  {
   "cell_type": "code",
   "execution_count": null,
   "id": "77ef4a89-5ea7-4780-85e5-58d097fe9c03",
   "metadata": {},
   "outputs": [],
   "source": [
    "signal.signal()"
   ]
  },
  {
   "cell_type": "code",
   "execution_count": null,
   "id": "03853a84-e110-4363-b4b0-0892c280dff8",
   "metadata": {},
   "outputs": [],
   "source": [
    "import json\n",
    "data = {\"message\": \"你好，世界\"}\n",
    "# 默认情况下，ensure_ascii=True\n",
    "json_str = json.dumps(data)\n",
    "print(json_str,type(json_str))\n",
    "# 输出: {\"message\": \"\\u4f60\\u597d\\uff0c\\u4e16\\u754c\"}\n",
    "# 设置 ensure_ascii=False,不转义,显示中文\n",
    "json_str = json.dumps(data, ensure_ascii=False)\n",
    "print(json_str)"
   ]
  },
  {
   "cell_type": "code",
   "execution_count": null,
   "id": "826ea4e8-340e-48b5-b416-98bff5d5fac0",
   "metadata": {},
   "outputs": [],
   "source": [
    "import heapq\n",
    "# 创建一个空堆\n",
    "heap = []\n",
    "# 向堆中添加元素\n",
    "# heapq.heappush(heap, 3)\n",
    "# heapq.heappush(heap, 1)\n",
    "# heapq.heappush(heap, 2)\n",
    "# 弹出堆中的最小元素\n",
    "# print(heapq.heappop(heap))  # 输出 1\n",
    "# 将列表转化为堆\n",
    "numbers = [5, 3, 8, 1, 6, 2]\n",
    "# [1, 3, 2, 5, 6, 8] 是一个最小堆。\n",
    "# 1 是堆的根节点（索引 0），它是列表中的最小值。\n",
    "# 对于索引 1 和 2 的子节点（3 和 2），它们大于或等于其父节点（1）。\n",
    "# 索引 3、4、5（5、6、8）是叶节点，它们的值比它们的父节点（3 和 2）大，但不一定有序。\n",
    "heapq.heapify(numbers)\n",
    "print(numbers)  # 输出一个堆结构： [1, 3, 2, 5, 6, 8]"
   ]
  },
  {
   "cell_type": "code",
   "execution_count": null,
   "id": "db047e57-e42b-481f-b2fc-c4fe66b29d99",
   "metadata": {},
   "outputs": [],
   "source": [
    "class Channel:\n",
    "    channel_type = \"default\"  # 类属性\n",
    "\n",
    "    def __init__(self, name):\n",
    "        self.name = name  # 实例属性\n",
    "\n",
    "# 创建两个实例\n",
    "channel1 = Channel(\"Channel 1\")\n",
    "channel2 = Channel(\"Channel 2\")\n",
    "# 访问类属性\n",
    "print(Channel.channel_type)  # 输出: default\n",
    "print(channel1.channel_type)  # 输出: default\n",
    "print(channel2.channel_type)  # 输出: default\n",
    "# 修改类属性\n",
    "Channel.channel_type = \"updated\"\n",
    "# 所有实例的类属性都被更新\n",
    "print(Channel.channel_type)  # 输出: updated\n",
    "print(channel1.channel_type)  # 输出: updated\n",
    "print(channel2.channel_type)  # 输出: updated\n",
    "# 修改实例属性\n",
    "channel1.name = \"New Channel 1\"\n",
    "print(channel1.name)  # 输出: New Channel 1\n",
    "print(channel2.name)  # 输出: Channel 2"
   ]
  },
  {
   "cell_type": "code",
   "execution_count": null,
   "id": "907ba864-3d56-4f5b-8d89-3bacd2b8d9ea",
   "metadata": {},
   "outputs": [],
   "source": [
    "def start_channel(channel_name: str):\n",
    "    # 通过 channel_factory 工厂创建一个相应的频道对象。\n",
    "    channel = channel_factory.create_channel(channel_name)\n",
    "    # 检查 channel_name 是否属于预定义的一组特定频道（如微信、飞书、钉钉等）。这个条件的目的是确定是否需要加载插件。\n",
    "    # wx, wxy: 微信相关,terminal: 终端相关,wechatmp, wechatmp_service: 微信公众号,web: Web应用相关\n",
    "    # wework: 企业微信,feishu: 飞书,dingtalk: 钉钉\n",
    "    if channel_name in [\"wx\", \"wxy\", \"terminal\", \"wechatmp\",\"web\", \"wechatmp_service\", \"wechatcom_app\", \"wework\",\n",
    "                        const.FEISHU, const.DINGTALK]:\n",
    "        # 如果 channel_name 在上述特定的频道列表中，那么就通过 PluginManager 类的 load_plugins 方法加载插件。\n",
    "        # PluginManager 是负责管理和加载插件的类。load_plugins() 方法会加载与该频道相关的插件，可能包括一些与该平\n",
    "        # 台交互的功能、扩展等。\n",
    "        PluginManager().load_plugins()\n",
    "    # 检查配置中是否有一个名为 \"use_linkai\" 的设置，如果该设置为 True，则会启动一个与 LinkAI 相关的线程。\n",
    "    # conf() 可能是获取配置的函数，get(\"use_linkai\") 用来获取配置中的 \"use_linkai\" 值。如果这个值存在且为 \n",
    "    # True，则执行后续操作。\n",
    "    if conf().get(\"use_linkai\"):\n",
    "        # 在 try 块中执行与 LinkAI 相关的操作，尝试导入并启动 LinkAI 客户端。\n",
    "        # 这里的操作是在 use_linkai 配置项启用时，通过线程启动 LinkAI 客户端。\n",
    "        try:\n",
    "            # 导入 common 模块中的 linkai_client 对象，这个对象应该是与 LinkAI 服务交互的客户端。\n",
    "            from common import linkai_client\n",
    "            # 作用：通过 threading 模块启动一个新的线程，目标函数是 linkai_client.start，并传入 channel 作为参数。\n",
    "            # linkai_client.start(channel) 可能是启动 LinkAI 客户端并传入频道对象来进行某种初始化或任务处理。\n",
    "            # 新线程的启动是为了避免阻塞主程序的执行，确保 LinkAI 客户端能够并行运行。\n",
    "            # LinkAI 客户端是通过支线线程（子线程）启动的，而主线程则执行 channel.startup()。\n",
    "            threading.Thread(target=linkai_client.start, args=(channel,)).start()\n",
    "        # 作用：如果在导入或启动 linkai_client 的过程中发生异常，捕获并忽略这个异常。这里的 pass 语句表示异常发生时\n",
    "        # 不会执行任何操作，也不会影响程序的其余部分。\n",
    "        except Exception as e:\n",
    "            pass\n",
    "    # 作用：启动 channel，调用 channel 对象的 startup() 方法。这通常是执行频道的初始化任务（如连接、初始化状\n",
    "    # 态、打开服务等）。\n",
    "    channel.startup()"
   ]
  },
  {
   "cell_type": "code",
   "execution_count": null,
   "id": "04ba5c03-e9cf-4b4f-afc5-06c7033257ce",
   "metadata": {},
   "outputs": [],
   "source": [
    "aa=signal.getsignal(signal.SIGINT)"
   ]
  },
  {
   "cell_type": "code",
   "execution_count": null,
   "id": "04675048-1cc1-4dae-bf74-03a86d076acd",
   "metadata": {},
   "outputs": [],
   "source": [
    "from common.expired_dict import ExpiredDict"
   ]
  },
  {
   "cell_type": "code",
   "execution_count": null,
   "id": "3dc2efbe-f2c6-471f-8350-23b85a5c13cf",
   "metadata": {},
   "outputs": [],
   "source": [
    "# 创建一个过期时间为5秒的字典\n",
    "exp_dict = ExpiredDict(5)"
   ]
  },
  {
   "cell_type": "code",
   "execution_count": null,
   "id": "83c64070-2e09-4cbe-81ef-7ad315c8f24d",
   "metadata": {},
   "outputs": [],
   "source": [
    "# 设置一个键值对\n",
    "exp_dict[\"apple\"] = \"fruit\""
   ]
  },
  {
   "cell_type": "code",
   "execution_count": null,
   "id": "4a7f6eaa-0c3a-47a7-a969-a6397cee304b",
   "metadata": {},
   "outputs": [],
   "source": [
    "print(exp_dict[\"apple\"])  # 输出 \"fruit\""
   ]
  },
  {
   "cell_type": "code",
   "execution_count": null,
   "id": "3de86e23-a1f8-407d-a4e6-b7169a4f652f",
   "metadata": {},
   "outputs": [],
   "source": [
    "# 等待6秒钟，使得“apple”条目过期\n",
    "import time\n",
    "time.sleep(6)"
   ]
  },
  {
   "cell_type": "code",
   "execution_count": null,
   "id": "85a009d0-5407-4b0a-89df-8aa68addd723",
   "metadata": {},
   "outputs": [],
   "source": [
    "# 访问已过期的键\n",
    "try:\n",
    "    print(exp_dict[\"apple\"])  # 这时会抛出 KeyError\n",
    "except KeyError as e:\n",
    "    print(e)  # 输出 \"expired apple\""
   ]
  },
  {
   "cell_type": "code",
   "execution_count": null,
   "id": "8104b611-c9ce-4f78-bc73-18b5afb3f1f9",
   "metadata": {},
   "outputs": [],
   "source": [
    "# 使用 get 方法获取已过期的条目，返回默认值\n",
    "print(exp_dict.get(\"apple\", \"not found\"))  # 输出 \"not found\""
   ]
  },
  {
   "cell_type": "code",
   "execution_count": null,
   "id": "4abf3f65-213f-4b7c-908f-414d0a5d79d6",
   "metadata": {},
   "outputs": [],
   "source": [
    "# 判断键是否存在\n",
    "print(\"apple\" in exp_dict)  # 输出 False"
   ]
  },
  {
   "cell_type": "code",
   "execution_count": null,
   "id": "2f2a3de0-e75a-4485-8b73-6be1f4556555",
   "metadata": {},
   "outputs": [],
   "source": [
    "def run():\n",
    "    try:\n",
    "        # 加载配置和用户数据\n",
    "        load_config()\n",
    "        # signal.SIGINT 是一个常量，表示“中断信号”（通常是用户通过按下 Ctrl+C 发送的信号）。\n",
    "        # 如果没有按下 Ctrl+C，则不会触发 SIGINT 信号，程序将继续按正常流程运行。\n",
    "        sigterm_handler_wrap(signal.SIGINT)\n",
    "        # 用户手动终止进程：例如，在命令行使用 kill <pid> 命令，默认情况下发送的就是 SIGTERM。\n",
    "        # sigterm_handler_wrap(signal.SIGTERM) 本身并不是立即执行的。它实际上是在设置一个信号处理器，用\n",
    "        # 于在将来某个时刻当 SIGTERM 信号被触发时执行特定的代码。\n",
    "        sigterm_handler_wrap(signal.SIGTERM)\n",
    "        # 从配置文件中获取 channel_type 的值，默认为 \"wx\"\n",
    "        # 消息接收：当用户发送消息给机器人时，微信服务器会将这些消息转发给你的应用程序。\n",
    "        # 消息发送：当机器人需要回复用户时，它需要通过微信 API 向微信服务器发送消息，再由微信服务器转发给用户\n",
    "        # 机器人与微信 API 的通信\n",
    "        # API 请求：机器人需要调用微信提供的各种 API 来完成不同的任务，如发送消息、获取用户信息、管理菜单等。\n",
    "        # 认证和安全：为了确保通信的安全性，微信要求开发者使用特定的认证机制（如 Token、AES 加密等）来验证身\n",
    "        # 份并保护数据传输。\n",
    "        # 可能是指标准的微信通道，用于通过官方 API 或其他方式与微信平台进行交互。\n",
    "        channel_name = conf().get(\"channel_type\", \"wx\")\n",
    "        # sys.argv 包含的是你传递给脚本的命令行参数，以及脚本本身的名称。\n",
    "        # 如果命令行参数中包含 --cmd，则将 channel_name 设置为 \"terminal\"，表示使用终端通道。\n",
    "        if \"--cmd\" in sys.argv:\n",
    "            channel_name = \"terminal\"\n",
    "        # 根据 channel_name 的值来设置环境变量 WECHATY_LOG，从而控制 Wechaty（一个用于开发微信机器人的 \n",
    "        # JavaScript/Python 库）的日志级别。具体来说，如果 channel_name 等于 \"wxy\"，则将 WECHATY_LOG \n",
    "        # 环境变量设置为 \"warn\"，这会使得 Wechaty 只记录警告及以上级别的日志信息。\n",
    "        if channel_name == \"wxy\":\n",
    "            os.environ[\"WECHATY_LOG\"] = \"warn\" \n",
    "        # 调用 start_channel 函数启动指定名称的通道。\n",
    "        start_channel(channel_name)\n",
    "        # 使用一个无限循环和 time.sleep(1) 来保持主进程运行，防止程序退出。\n",
    "        # while True 和 time.sleep(1) 的组合是一种简单的方式，用来确保主进程持续运行，并且可以在接收到终止信号时进行\n",
    "        # 适当的清理工作。不过，在设计长期运行的应用时，考虑更加优雅的解决方案通常是值得的\n",
    "        while True:\n",
    "            time.sleep(1)\n",
    "    except Exception as e:\n",
    "        # 捕获所有未处理的异常，并记录错误信息和完整的异常堆栈信息。\n",
    "        logger.error(\"App startup failed!\")\n",
    "        logger.exception(e)"
   ]
  },
  {
   "cell_type": "code",
   "execution_count": null,
   "id": "f32c0a3f-0907-4177-8cb1-60258f1ef136",
   "metadata": {},
   "outputs": [],
   "source": [
    "# 在普通的 Python 脚本中，sys.argv 包含的是你传递给脚本的命令行参数，以及脚本本身的名称。\n",
    "# 但在 Jupyter Notebook 中，由于它是通过 IPython 内核执行代码的，sys.argv 实际上反映\n",
    "# 了启动 IPython 内核时使用的命令行参数，而不是你在 Notebook 单元格中输入的内容。\n",
    "sys.argv"
   ]
  },
  {
   "cell_type": "code",
   "execution_count": null,
   "id": "603e757e-79e2-46c7-b432-8bbf40a44ea1",
   "metadata": {},
   "outputs": [],
   "source": [
    "%run script.py"
   ]
  },
  {
   "cell_type": "code",
   "execution_count": null,
   "id": "9c7818cb-61b7-458a-96f6-0f16b8f00a8c",
   "metadata": {},
   "outputs": [],
   "source": []
  }
 ],
 "metadata": {
  "kernelspec": {
   "display_name": "Python 3 (ipykernel)",
   "language": "python",
   "name": "python3"
  },
  "language_info": {
   "codemirror_mode": {
    "name": "ipython",
    "version": 3
   },
   "file_extension": ".py",
   "mimetype": "text/x-python",
   "name": "python",
   "nbconvert_exporter": "python",
   "pygments_lexer": "ipython3",
   "version": "3.10.14"
  }
 },
 "nbformat": 4,
 "nbformat_minor": 5
}
