{
 "cells": [
  {
   "cell_type": "code",
   "execution_count": null,
   "id": "61c61d86-5587-408e-8955-12ea0b22b3b8",
   "metadata": {},
   "outputs": [],
   "source": [
    "import os # 用于与操作系统交互\n",
    "import signal # 用于处理信号（如中断信号），可以用来优雅地关闭程序。\n",
    "import sys # 提供对解释器使用或维护的一些变量的访问，以及与解释器强烈交互的函数。\n",
    "import time # 提供各种时间相关的功能。\n",
    "from chabot.channel import channel_factory # 可能是你自己定义的一个模块，用于创建不同类型的通信通道。"
   ]
  },
  {
   "cell_type": "code",
   "execution_count": null,
   "id": "4a9ae7a5-e07b-4b19-af0a-715aa2527044",
   "metadata": {},
   "outputs": [],
   "source": [
    "from chabot.common import const # 可能是定义了一些常量"
   ]
  },
  {
   "cell_type": "code",
   "execution_count": null,
   "id": "49e3c6a3-d080-4cd9-b637-c2f48027a32f",
   "metadata": {},
   "outputs": [],
   "source": [
    "from chabot.config import load_config # 用于加载配置文件。"
   ]
  },
  {
   "cell_type": "code",
   "execution_count": null,
   "id": "e5dc5043-7151-4fc7-b651-dfe823610f47",
   "metadata": {},
   "outputs": [],
   "source": [
    "from chabot.plugins import * # 导入所有插件，这通常用于扩展功能。"
   ]
  },
  {
   "cell_type": "code",
   "execution_count": null,
   "id": "a820a515-a407-442d-9e8f-261ebe567429",
   "metadata": {
    "scrolled": true
   },
   "outputs": [],
   "source": [
    "import threading # 用于多线程编程，可以并发执行任务。"
   ]
  },
  {
   "cell_type": "code",
   "execution_count": null,
   "id": "b452a87c-a3d5-45c6-80d5-ff25e29863f0",
   "metadata": {},
   "outputs": [],
   "source": [
    "# !pip install qrcode==7.4.2"
   ]
  },
  {
   "cell_type": "code",
   "execution_count": null,
   "id": "6db5e986-20d5-4327-9eba-e9709f15dd00",
   "metadata": {},
   "outputs": [],
   "source": [
    "import ast"
   ]
  },
  {
   "cell_type": "code",
   "execution_count": null,
   "id": "40cc12ee-c2ee-4bf6-96e2-26cc18b962e3",
   "metadata": {},
   "outputs": [],
   "source": [
    "config = {\n",
    "    'name': '[1, 2, 3]',\n",
    "    'age': '25',\n",
    "    'is_active': 'True',\n",
    "    'malicious_input': '__import__(\"os\").system(\"rm -rf /\")'  # 潜在恶意输入\n",
    "}\n",
    "# 使用 ast.literal_eval 将字符串转换为实际的 Python 对象\n",
    "for key, value in config.items():\n",
    "    try:\n",
    "        config[key] = ast.literal_eval(value)\n",
    "    except:\n",
    "        config[key] = value\n",
    "print(config)"
   ]
  },
  {
   "cell_type": "code",
   "execution_count": null,
   "id": "59225ed5-6b26-47e1-b9e4-907bacb6dc07",
   "metadata": {},
   "outputs": [],
   "source": [
    "def sigterm_handler_wrap(_signo):\n",
    "    old_handler = signal.getsignal(_signo) # 获取旧的信号处理器\n",
    "    # 定义新的信号处理器\n",
    "    # 当用户希望程序停止运行时，捕获 SIGINT 可以让程序执行清理操作（如保存数据、关闭文件或网络连接）后再退出。\n",
    "    def func(_signo, _stack_frame):\n",
    "        #　新的处理器首先记录一条日志信息。\n",
    "        logger.info(\"signal {} received, exiting...\".format(_signo))\n",
    "        # 然后调用 conf().save_user_datas() 来保存用户数据。\n",
    "        conf().save_user_datas()\n",
    "        # 接着检查 old_handler 是否是可调用的对象。如果是，则调用它，传递相同的参数。\n",
    "        if callable(old_handler):  #  check old_handler\n",
    "            return old_handler(_signo, _stack_frame)\n",
    "        sys.exit(0) # 最后，调用 sys.exit(0) 以正常退出程序\n",
    "    # 使用 signal.signal 将新定义的处理器 func 注册为信号 _signo 的处理器。\n",
    "    signal.signal(_signo, func) "
   ]
  },
  {
   "cell_type": "code",
   "execution_count": null,
   "id": "907ba864-3d56-4f5b-8d89-3bacd2b8d9ea",
   "metadata": {},
   "outputs": [],
   "source": [
    "def start_channel(channel_name: str):\n",
    "    # 根据传入的 channel_name，通过 channel_factory 工厂创建一个相应的频道对象。\n",
    "    channel = channel_factory.create_channel(channel_name)\n",
    "    # 检查 channel_name 是否属于预定义的一组特定频道（如微信、飞书、钉钉等）。这个条件的目的是确定是否需要加载插件。\n",
    "    # wx, wxy: 微信相关,terminal: 终端相关,wechatmp, wechatmp_service: 微信公众号,web: Web应用相关\n",
    "    # wework: 企业微信,feishu: 飞书,dingtalk: 钉钉\n",
    "    if channel_name in [\"wx\", \"wxy\", \"terminal\", \"wechatmp\",\"web\", \"wechatmp_service\", \"wechatcom_app\", \"wework\",\n",
    "                        const.FEISHU, const.DINGTALK]:\n",
    "        # 如果 channel_name 在上述特定的频道列表中，那么就通过 PluginManager 类的 load_plugins 方法加载插件。\n",
    "        # PluginManager 是负责管理和加载插件的类。load_plugins() 方法会加载与该频道相关的插件，可能包括一些与该平\n",
    "        # 台交互的功能、扩展等。\n",
    "        PluginManager().load_plugins()\n",
    "    # 检查配置中是否有一个名为 \"use_linkai\" 的设置，如果该设置为 True，则会启动一个与 LinkAI 相关的线程。\n",
    "    # conf() 可能是获取配置的函数，get(\"use_linkai\") 用来获取配置中的 \"use_linkai\" 值。如果这个值存在且为 \n",
    "    # True，则执行后续操作。\n",
    "    if conf().get(\"use_linkai\"):\n",
    "        # 在 try 块中执行与 LinkAI 相关的操作，尝试导入并启动 LinkAI 客户端。\n",
    "        # 这里的操作是在 use_linkai 配置项启用时，通过线程启动 LinkAI 客户端。\n",
    "        try:\n",
    "            # 导入 common 模块中的 linkai_client 对象，这个对象应该是与 LinkAI 服务交互的客户端。\n",
    "            from common import linkai_client\n",
    "            # 作用：通过 threading 模块启动一个新的线程，目标函数是 linkai_client.start，并传入 channel 作为参数。\n",
    "            # linkai_client.start(channel) 可能是启动 LinkAI 客户端并传入频道对象来进行某种初始化或任务处理。\n",
    "            # 新线程的启动是为了避免阻塞主程序的执行，确保 LinkAI 客户端能够并行运行。\n",
    "            # LinkAI 客户端是通过支线线程（子线程）启动的，而主线程则执行 channel.startup()。\n",
    "            threading.Thread(target=linkai_client.start, args=(channel,)).start()\n",
    "        # 作用：如果在导入或启动 linkai_client 的过程中发生异常，捕获并忽略这个异常。这里的 pass 语句表示异常发生时\n",
    "        # 不会执行任何操作，也不会影响程序的其余部分。\n",
    "        except Exception as e:\n",
    "            pass\n",
    "    # 作用：启动 channel，调用 channel 对象的 startup() 方法。这通常是执行频道的初始化任务（如连接、初始化状\n",
    "    # 态、打开服务等）。\n",
    "    channel.startup()"
   ]
  },
  {
   "cell_type": "code",
   "execution_count": null,
   "id": "04ba5c03-e9cf-4b4f-afc5-06c7033257ce",
   "metadata": {},
   "outputs": [],
   "source": [
    "aa=signal.getsignal(signal.SIGINT)"
   ]
  },
  {
   "cell_type": "code",
   "execution_count": null,
   "id": "04675048-1cc1-4dae-bf74-03a86d076acd",
   "metadata": {},
   "outputs": [],
   "source": [
    "from chabot.common.expired_dict import ExpiredDict"
   ]
  },
  {
   "cell_type": "code",
   "execution_count": null,
   "id": "3dc2efbe-f2c6-471f-8350-23b85a5c13cf",
   "metadata": {},
   "outputs": [],
   "source": [
    "# 创建一个过期时间为5秒的字典\n",
    "exp_dict = ExpiredDict(5)"
   ]
  },
  {
   "cell_type": "code",
   "execution_count": null,
   "id": "83c64070-2e09-4cbe-81ef-7ad315c8f24d",
   "metadata": {},
   "outputs": [],
   "source": [
    "# 设置一个键值对\n",
    "exp_dict[\"apple\"] = \"fruit\""
   ]
  },
  {
   "cell_type": "code",
   "execution_count": null,
   "id": "4a7f6eaa-0c3a-47a7-a969-a6397cee304b",
   "metadata": {},
   "outputs": [],
   "source": [
    "print(exp_dict[\"apple\"])  # 输出 \"fruit\""
   ]
  },
  {
   "cell_type": "code",
   "execution_count": null,
   "id": "3de86e23-a1f8-407d-a4e6-b7169a4f652f",
   "metadata": {},
   "outputs": [],
   "source": [
    "# 等待6秒钟，使得“apple”条目过期\n",
    "import time\n",
    "time.sleep(6)"
   ]
  },
  {
   "cell_type": "code",
   "execution_count": null,
   "id": "85a009d0-5407-4b0a-89df-8aa68addd723",
   "metadata": {},
   "outputs": [],
   "source": [
    "# 访问已过期的键\n",
    "try:\n",
    "    print(exp_dict[\"apple\"])  # 这时会抛出 KeyError\n",
    "except KeyError as e:\n",
    "    print(e)  # 输出 \"expired apple\""
   ]
  },
  {
   "cell_type": "code",
   "execution_count": null,
   "id": "8104b611-c9ce-4f78-bc73-18b5afb3f1f9",
   "metadata": {},
   "outputs": [],
   "source": [
    "# 使用 get 方法获取已过期的条目，返回默认值\n",
    "print(exp_dict.get(\"apple\", \"not found\"))  # 输出 \"not found\""
   ]
  },
  {
   "cell_type": "code",
   "execution_count": null,
   "id": "4abf3f65-213f-4b7c-908f-414d0a5d79d6",
   "metadata": {},
   "outputs": [],
   "source": [
    "# 判断键是否存在\n",
    "print(\"apple\" in exp_dict)  # 输出 False"
   ]
  },
  {
   "cell_type": "code",
   "execution_count": null,
   "id": "4216664e-72b7-4229-8eb5-087eb3fc28d8",
   "metadata": {},
   "outputs": [],
   "source": []
  },
  {
   "cell_type": "code",
   "execution_count": null,
   "id": "2f2a3de0-e75a-4485-8b73-6be1f4556555",
   "metadata": {},
   "outputs": [],
   "source": [
    "def run():\n",
    "    try:\n",
    "        # load config\n",
    "        load_config()\n",
    "        # signal.SIGINT 是一个常量，表示“中断信号”（通常是用户通过按下 Ctrl+C 发送的信号）。\n",
    "        # 如果没有按下 Ctrl+C，则不会触发 SIGINT 信号，程序将继续按正常流程运行。\n",
    "        sigterm_handler_wrap(signal.SIGINT)\n",
    "        # SIGTERM：用来请求程序终止。\n",
    "        # SIGKILL：强制终止程序（此信号不能被捕获或忽略）\n",
    "        # 用户手动终止进程：例如，在命令行使用 kill <pid> 命令，默认情况下发送的就是 SIGTERM。\n",
    "        # sigterm_handler_wrap(signal.SIGTERM) 本身并不是立即执行的。它实际上是在设置一个信号处理器，用\n",
    "        # 于在将来某个时刻当 SIGTERM 信号被触发时执行特定的代码。\n",
    "        sigterm_handler_wrap(signal.SIGTERM)\n",
    "        # 从配置文件中获取 channel_type 的值，默认为 \"wx\"（假设是微信通道）\n",
    "        # 定义：微信通道是指通过微信平台与用户进行交互的方式。这可能涉及到 Wechaty 或其他微信机器人库，\n",
    "        # 这些库提供了 API 来实现与微信消息的收发\n",
    "        # 用户与机器人之间的通信\n",
    "        # 消息接收：当用户发送消息给机器人时，微信服务器会将这些消息转发给你的应用程序。\n",
    "        # 消息发送：当机器人需要回复用户时，它需要通过微信 API 向微信服务器发送消息，再由微信服务器转发给用户\n",
    "        # 机器人与微信 API 的通信\n",
    "        # API 请求：机器人需要调用微信提供的各种 API 来完成不同的任务，如发送消息、获取用户信息、管理菜单等。\n",
    "        # 认证和安全：为了确保通信的安全性，微信要求开发者使用特定的认证机制（如 Token、AES 加密等）来验证身\n",
    "        # 份并保护数据传输。\n",
    "        # 可能是指标准的微信通道，用于通过官方 API 或其他方式与微信平台进行交互。\n",
    "        channel_name = conf().get(\"channel_type\", \"wx\")\n",
    "        # 如果命令行参数中包含 --cmd，则将 channel_name 设置为 \"terminal\"，表示使用终端通道。\n",
    "        if \"--cmd\" in sys.argv:\n",
    "            channel_name = \"terminal\"\n",
    "        # 如果 channel_name 是 \"wxy\"，则设置 WECHATY_LOG 环境变量为 \"warn\"，\n",
    "        # 这可能是为了控制 Wechaty 库的日志级别。\n",
    "        # 可能是指使用 Wechaty 库的微信通道。\n",
    "        # 特定配置，如日志级别设置 (WECHATY_LOG = \"warn\")，表明这可能是为了优化 Wechaty 的日志输出，\n",
    "        # 适合生产环境或特定场景。\n",
    "        if channel_name == \"wxy\":\n",
    "            os.environ[\"WECHATY_LOG\"] = \"warn\"\n",
    "        # 调用 start_channel 函数启动指定名称的通道。\n",
    "        start_channel(channel_name)\n",
    "        # 使用一个无限循环和 time.sleep(1) 来保持主进程运行，防止程序退出。\n",
    "        # while True 和 time.sleep(1) 的组合是一种简单的方式，用来确保主进程持续运行，并且可以在接收到终止信号时进行\n",
    "        # 适当的清理工作。不过，在设计长期运行的应用时，考虑更加优雅的解决方案通常是值得的\n",
    "        while True:\n",
    "            time.sleep(1)\n",
    "    except Exception as e:\n",
    "        # 捕获所有未处理的异常，并记录错误信息和完整的异常堆栈信息。\n",
    "        logger.error(\"App startup failed!\")\n",
    "        logger.exception(e)"
   ]
  },
  {
   "cell_type": "code",
   "execution_count": null,
   "id": "f32c0a3f-0907-4177-8cb1-60258f1ef136",
   "metadata": {},
   "outputs": [],
   "source": []
  }
 ],
 "metadata": {
  "kernelspec": {
   "display_name": "Python 3 (ipykernel)",
   "language": "python",
   "name": "python3"
  },
  "language_info": {
   "codemirror_mode": {
    "name": "ipython",
    "version": 3
   },
   "file_extension": ".py",
   "mimetype": "text/x-python",
   "name": "python",
   "nbconvert_exporter": "python",
   "pygments_lexer": "ipython3",
   "version": "3.10.14"
  }
 },
 "nbformat": 4,
 "nbformat_minor": 5
}
